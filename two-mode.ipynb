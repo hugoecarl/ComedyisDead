{
 "cells": [
  {
   "cell_type": "code",
   "execution_count": null,
   "metadata": {},
   "outputs": [],
   "source": [
    "import networkx as nx\n",
    "import networkx as nx\n",
    "import matplotlib.pyplot as plt\n",
    "import pandas as pd\n",
    "import numpy as np\n",
    "from networkx.algorithms import bipartite\n",
    "import scipy.sparse as sparse\n",
    "import freeman as fm\n",
    "\n"
   ]
  },
  {
   "cell_type": "code",
   "execution_count": null,
   "metadata": {},
   "outputs": [],
   "source": [
    "## Exemplo de Two-Mode \n",
    "\n",
    "a_matrix = sparse.rand(10, 10, format='coo', density=0.8)\n",
    "\n",
    "G = bipartite.from_biadjacency_matrix(a_matrix, create_using=None, \n",
    "                                         edge_attribute='weight')\n",
    "X, Y = bipartite.sets(G)\n",
    "pos = dict()\n",
    "pos.update((n, (0, i*10)) for i, n in enumerate(X))\n",
    "pos.update((n, (0.5, i*10)) for i, n in enumerate(Y))\n",
    "num_edges = G.number_of_edges()\n",
    "num_nodes = G.number_of_nodes()\n",
    "nx.draw(G, pos=pos, with_labels=True,\n",
    "        edge_color=np.random.random(num_edges), \n",
    "        edge_cmap=plt.get_cmap('Blues'), \n",
    "        node_color=np.random.random(num_nodes),\n",
    "        cmap=plt.get_cmap('Reds'))"
   ]
  },
  {
   "cell_type": "code",
   "execution_count": null,
   "metadata": {},
   "outputs": [],
   "source": [
    "allGenres = []\n",
    "allMovies = []\n",
    "df = pd.read_csv('title_basics.tsv', sep='\\t')\n",
    "print(len(df.columns))\n",
    "df.genres = df.genres.astype(str)\n",
    "counter = 0\n",
    "for i in df.index:\n",
    "\tif (counter < 20):\n",
    "\t\tmovie = df.iloc[i]\n",
    "\t\tgenreList = movie[\"genres\"].split(\",\")\n",
    "\t\tfor e in genreList:\n",
    "\t\t\tif e not in allGenres:\n",
    "\t\t\t\tallGenres.append(e)\n",
    "\t\tif \"Comedy\" in genreList:\n",
    "\t\t\tprint(movie[\"originalTitle\"])\n",
    "\t\t\tallMovies.append({\"movie\":movie[\"originalTitle\"],\"genres\":genreList})\n",
    "\t\t\tcounter+=1\n",
    "print(allGenres)\n",
    "print(allMovies)"
   ]
  },
  {
   "cell_type": "code",
   "execution_count": null,
   "metadata": {},
   "outputs": [],
   "source": [
    "Movies_names = []\n",
    "for i in allMovies:\n",
    "    Movies_names.append(i[\"movie\"])\n",
    "\n",
    "B = fm.Graph(nx.empty_graph())\n",
    "\n",
    "B.add_nodes_from(Movies_names,bipartite = 0)\n",
    "B.add_nodes_from(allGenres,bipartite = 1)\n",
    "B.set_all_nodes('size', 5)\n",
    "B.set_all_nodes('labpos', 'hover')\n",
    "for i in allMovies:\n",
    "    for e in i[\"genres\"]:\n",
    "        B.add_edge(i[\"movie\"],e,color='g',weight=6)\n",
    "        \n",
    "num_edges = B.number_of_edges()\n",
    "num_nodes = B.number_of_nodes()\n",
    "\n",
    "## Referencia do codigo abaixo do exercicio 3 das aulas. Por algum motivo o bipartite nao funcionou\n",
    "B.move('bipartite', [n for n in B.nodes if B.nodes[n]['bipartite'] == 0])\n",
    "        "
   ]
  },
  {
   "cell_type": "code",
   "execution_count": null,
   "metadata": {},
   "outputs": [],
   "source": [
    "nx.draw(B)"
   ]
  }
 ],
 "metadata": {
  "kernelspec": {
   "display_name": "Python 3",
   "language": "python",
   "name": "python3"
  },
  "language_info": {
   "codemirror_mode": {
    "name": "ipython",
    "version": 3
   },
   "file_extension": ".py",
   "mimetype": "text/x-python",
   "name": "python",
   "nbconvert_exporter": "python",
   "pygments_lexer": "ipython3",
   "version": "3.7.3"
  }
 },
 "nbformat": 4,
 "nbformat_minor": 2
}
